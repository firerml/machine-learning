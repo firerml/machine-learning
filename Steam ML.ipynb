{
 "cells": [
  {
   "cell_type": "code",
   "execution_count": 12,
   "metadata": {
    "collapsed": false
   },
   "outputs": [],
   "source": [
    "from concurrent.futures import ThreadPoolExecutor\n",
    "from urllib.parse import urlencode\n",
    "\n",
    "import pandas as pd\n",
    "import numpy as np\n",
    "import re\n",
    "import requests\n",
    "from bs4 import BeautifulSoup"
   ]
  },
  {
   "cell_type": "code",
   "execution_count": 5,
   "metadata": {
    "collapsed": true
   },
   "outputs": [],
   "source": [
    "d = pd.read_csv('steam-200k.csv', encoding='latin2', names=['user', 'game', 'behavior', 'hours'])\n",
    "\n",
    "# Remove messed up rows.\n",
    "d = d[(d['behavior'] == 'purchase') | (d['behavior'] == 'play')]\n",
    "\n",
    "# Purchased means 0 hours.\n",
    "d.loc[d['behavior'] == 'purchase', 'hours'] = 0\n",
    "d = d.drop('behavior', axis=1)\n",
    "d['hours'] = d['hours'].astype(float)\n",
    "d = d.groupby(['user', 'game'], as_index=False).sum()\n",
    "\n",
    "def normalize(title):\n",
    "    return re.sub('[^0-9a-zA-Z\\s]', '', title).lower()\n",
    "\n",
    "# Get official game IDs\n",
    "url = 'http://api.steampowered.com/ISteamApps/GetAppList/v0002/'\n",
    "game_data = requests.get(url).json()['applist']['apps']\n",
    "all_game_ids = {normalize(g['name']): g['appid'] for g in game_data}\n",
    "d['game_id'] = d['game'].apply(lambda g: all_game_ids.get(normalize(g)))\n",
    "\n",
    "d = d[d['game_id'].notnull()]\n",
    "d['game_id'] = d['game_id'].astype(int)"
   ]
  },
  {
   "cell_type": "code",
   "execution_count": 6,
   "metadata": {
    "collapsed": false
   },
   "outputs": [],
   "source": [
    "steamspy_url = 'http://steamspy.com/app/{}'\n",
    "def get_game_info(game_id):\n",
    "    r = requests.get(steamspy_url.format(game_id)).text\n",
    "    info = {}\n",
    "    soup = BeautifulSoup(r, 'html.parser')\n",
    "    elems = soup.find('div', attrs={'class': 'panel-body'}).find('img').find('br').contents\n",
    "    i = 0\n",
    "    count = 0\n",
    "    while i < len(elems):\n",
    "        e = elems[i]\n",
    "        if isinstance(e, str) and not e.strip():\n",
    "            pass\n",
    "        elif e.name == 'br':\n",
    "            i = 0\n",
    "            elems = e.contents\n",
    "            continue\n",
    "        elif e.name == 'strong':\n",
    "            curr_key = e.text.strip(':')\n",
    "        elif e.name == 'a':\n",
    "            if curr_key in ['Tags', 'Languages', 'Genre']:\n",
    "                if curr_key not in info:\n",
    "                    info[curr_key] = []\n",
    "                info[curr_key].append(e.text)\n",
    "            else:\n",
    "                info[curr_key] = e.text\n",
    "        elif curr_key == 'Category' and 'Category' not in info:\n",
    "            info[curr_key] = [c.strip() for c in e.split(',')]\n",
    "        elif curr_key == 'Free' and 'Price' not in info:\n",
    "            info['Price'] = 0.0\n",
    "        elif curr_key == 'Price' and 'Price' not in info:\n",
    "            info[curr_key] = float(e.strip().strip('$'))\n",
    "        elif curr_key not in info:\n",
    "            val = e.strip(':').strip()\n",
    "            if val and val[-1] == '%':\n",
    "                val = int(val.rstrip('%'))\n",
    "            info[curr_key] = val\n",
    "        i += 1\n",
    "    return info"
   ]
  },
  {
   "cell_type": "code",
   "execution_count": 10,
   "metadata": {
    "collapsed": false
   },
   "outputs": [],
   "source": [
    "game_ids = list(d['game_id'].unique())"
   ]
  },
  {
   "cell_type": "code",
   "execution_count": 48,
   "metadata": {
    "collapsed": false
   },
   "outputs": [],
   "source": [
    "count = 0\n",
    "total = len(game_ids)\n",
    "futures = []\n",
    "results = {}\n",
    "with ThreadPoolExecutor(max_workers=30) as executor:\n",
    "    for game_id in game_ids:\n",
    "        results[game_id] = executor.submit(get_game_info, game_id)"
   ]
  },
  {
   "cell_type": "code",
   "execution_count": 31,
   "metadata": {
    "collapsed": false
   },
   "outputs": [],
   "source": [
    "for i in results:\n",
    "    try:\n",
    "        results[i] = results[i].result()\n",
    "    except:\n",
    "        results[i] = None"
   ]
  },
  {
   "cell_type": "code",
   "execution_count": 33,
   "metadata": {
    "collapsed": false
   },
   "outputs": [],
   "source": [
    "missing = [i for i in results if not results[i]]"
   ]
  },
  {
   "cell_type": "code",
   "execution_count": 46,
   "metadata": {
    "collapsed": false
   },
   "outputs": [
    {
     "data": {
      "text/plain": [
       "4496"
      ]
     },
     "execution_count": 46,
     "metadata": {},
     "output_type": "execute_result"
    }
   ],
   "source": [
    "len(missing)"
   ]
  },
  {
   "cell_type": "code",
   "execution_count": null,
   "metadata": {
    "collapsed": true
   },
   "outputs": [],
   "source": [
    "results"
   ]
  }
 ],
 "metadata": {
  "kernelspec": {
   "display_name": "Python 3",
   "language": "python",
   "name": "python3"
  },
  "language_info": {
   "codemirror_mode": {
    "name": "ipython",
    "version": 3
   },
   "file_extension": ".py",
   "mimetype": "text/x-python",
   "name": "python",
   "nbconvert_exporter": "python",
   "pygments_lexer": "ipython3",
   "version": "3.4.4"
  }
 },
 "nbformat": 4,
 "nbformat_minor": 1
}
